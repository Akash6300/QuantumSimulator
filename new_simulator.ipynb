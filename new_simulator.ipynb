{
 "cells": [
  {
   "cell_type": "code",
   "execution_count": 3,
   "metadata": {},
   "outputs": [],
   "source": [
    "import numpy as np\n",
    "import collections\n",
    "import matplotlib.pyplot as plt\n"
   ]
  },
  {
   "cell_type": "code",
   "execution_count": 116,
   "metadata": {},
   "outputs": [],
   "source": [
    "class Qcircuit:\n",
    "    #initializing single qubit gates\n",
    "    pauli_x=np.array([[0,1],\n",
    "                      [1,0]])\n",
    "    pauli_y=np.array([[0,-1j],\n",
    "                      [1j,0]])\n",
    "    pauli_z=np.array([[1,0],\n",
    "                      [0,-1]])\n",
    "    hadamard=np.array([[1,1],\n",
    "                       [1,-1]])*(np.sqrt(2))\n",
    "    identity=np.identity(2)\n",
    "\n",
    "\n",
    "    __gates={'x':pauli_x,'y':pauli_y,'z':pauli_z,'h':hadamard,'i':identity}\n",
    "    def __init__(self,n:int) -> None:\n",
    "        '''number of qubits'''\n",
    "        try:\n",
    "            assert(n>0)\n",
    "        except AssertionError:\n",
    "            print('number of qubits must be greater than zero')\n",
    "        else:\n",
    "            self.n=n\n",
    "            self.statevector=np.zeros(2**n,dtype=float)\n",
    "            self.statevector[0]=1\n",
    "            gate_operations=[]\n",
    "            self.gate_operations=gate_operations\n",
    "\n",
    "    #defining function that generates cnot gate matrix\n",
    "    def get_cnot_matrix(control_qubit_index:int , target_qubit_index :int, num_qubits :int)->np.array:\n",
    "        M = np.zeros((2 ** num_qubits, 2 ** num_qubits), dtype=np.complex128)\n",
    "        for i in range(2 ** num_qubits):\n",
    "            binary_i = format(i, f'0{num_qubits}b')\n",
    "            binary_i_list = list(binary_i)\n",
    "            if binary_i_list[-(target_qubit_index + 1)] == '1':\n",
    "                binary_i_list[-(control_qubit_index + 1)] = str(1 - int(binary_i_list[-(control_qubit_index + 1)]))\n",
    "            binary_j = ''.join(binary_i_list)\n",
    "            j = int(binary_j, 2)\n",
    "            M[i, j] = 1\n",
    "            M[j, i] = 1\n",
    "        return M\n",
    "    \n",
    "    #defining function that perform gate operation\n",
    "    def __perform_gate(gate_matrix:np.array , statevector : np.array)->np.array:\n",
    "        new_statevector=np.dot(gate_matrix,statevector)\n",
    "        norm=np.sqrt((new_statevector[0]**2)+ (new_statevector[1]**2))\n",
    "        statevector= new_statevector/norm\n",
    "        return statevector\n",
    "    \n",
    "    #defining all single qubit gates\n",
    "    def x(self,index:int)->None:\n",
    "        self.gate_operations.append((index,'x'))\n",
    "    def y(self,index:int)->None:\n",
    "        self.gate_operations.append((index,'y'))\n",
    "    def z(self,index:int)->None:\n",
    "        self.gate_operations.append((index,'z'))\n",
    "    def h(self,index:int)->None:\n",
    "        self.gate_operations.append((index,'h'))\n",
    "    \n",
    "    def cnot(self,control_index: int,target_index :int)->None:\n",
    "        self.gate_operations.append(('cx',control_index,target_index))\n",
    "    \n",
    "    #Here we define a function that generate matrix to perform resultant single qubit matrix\n",
    "    # but for this function we must pass only one single layer of gates\n",
    "    def generate_single_qubit_matrix(self,gate_operation):\n",
    "        if 0 in gate_operation.keys():\n",
    "            resultant=self.__gates[gate_operation[0]]\n",
    "        else:\n",
    "            resultant=self.__gates['i']\n",
    "        for i in range(1,self.n):\n",
    "            if i in gate_operation.keys():\n",
    "                resultant=np.kron(resultant,self.__gates[gate_operation[i]])\n",
    "            else:\n",
    "                resultant=np.kron(resultant,self.__gates['i'])\n",
    "        print(resultant)\n",
    "                                 \n",
    "\n",
    "\n",
    "    \n",
    "    \n",
    "    "
   ]
  },
  {
   "cell_type": "code",
   "execution_count": 3,
   "metadata": {},
   "outputs": [],
   "source": [
    "def get_cnot_matrix(control_qubit_index:int , target_qubit_index :int, num_qubits :int)->np.array:\n",
    "        M = np.zeros((2 ** num_qubits, 2 ** num_qubits), dtype=np.complex128)\n",
    "        for i in range(2 ** num_qubits):\n",
    "            binary_i = format(i, f'0{num_qubits}b')\n",
    "            binary_i_list = list(binary_i)\n",
    "            if binary_i_list[-(target_qubit_index + 1)] == '1':\n",
    "                binary_i_list[-(control_qubit_index + 1)] = str(1 - int(binary_i_list[-(control_qubit_index + 1)]))\n",
    "            binary_j = ''.join(binary_i_list)\n",
    "            j = int(binary_j, 2)\n",
    "            M[i, j] = 1\n",
    "            M[j, i] = 1\n",
    "        return M"
   ]
  },
  {
   "cell_type": "code",
   "execution_count": 5,
   "metadata": {},
   "outputs": [
    {
     "name": "stdout",
     "output_type": "stream",
     "text": [
      "[[1.+0.j 0.+0.j 0.+0.j 0.+0.j]\n",
      " [0.+0.j 1.+0.j 0.+0.j 0.+0.j]\n",
      " [0.+0.j 0.+0.j 0.+0.j 1.+0.j]\n",
      " [0.+0.j 0.+0.j 1.+0.j 0.+0.j]]\n"
     ]
    }
   ],
   "source": [
    "print(cnot(0,1,2))"
   ]
  },
  {
   "cell_type": "code",
   "execution_count": 4,
   "metadata": {},
   "outputs": [],
   "source": [
    "def cnot(control,target,num_qubits):\n",
    "    M = np.zeros((2 ** num_qubits, 2 ** num_qubits), dtype=np.complex128)\n",
    "    for i in range(2 ** num_qubits):\n",
    "        binary_i = format(i, f'0{num_qubits}b')\n",
    "        binary_i_list = list(binary_i)\n",
    "        if binary_i_list[-(target + 1)] == '1':\n",
    "            binary_i_list[-(control + 1)] = str(1 - int(binary_i_list[-(control + 1)]))\n",
    "        binary_j = ''.join(binary_i_list)\n",
    "        j = int(binary_j, 2)\n",
    "        M[i, j] = 1\n",
    "        M[j, i] = 1\n",
    "    return M"
   ]
  },
  {
   "cell_type": "code",
   "execution_count": 8,
   "metadata": {},
   "outputs": [
    {
     "name": "stdout",
     "output_type": "stream",
     "text": [
      "[[1.+0.j 0.+0.j 0.+0.j 0.+0.j]\n",
      " [0.+0.j 0.+0.j 0.+0.j 1.+0.j]\n",
      " [0.+0.j 0.+0.j 1.+0.j 0.+0.j]\n",
      " [0.+0.j 1.+0.j 0.+0.j 0.+0.j]]\n"
     ]
    }
   ],
   "source": [
    "print(cnot(0,1,2))"
   ]
  },
  {
   "cell_type": "code",
   "execution_count": 7,
   "metadata": {},
   "outputs": [],
   "source": [
    "def cnot(control, target, num_qubits):\n",
    "    M = np.zeros((2 ** num_qubits, 2 ** num_qubits), dtype=np.complex128)\n",
    "    for i in range(2 ** num_qubits):\n",
    "        binary_i = format(i, f'0{num_qubits}b')[::-1]  # Reverse the binary representation\n",
    "        binary_i_list = list(binary_i)\n",
    "        if binary_i_list[control] == '1':\n",
    "            binary_i_list[target] = str(1 - int(binary_i_list[target]))\n",
    "        binary_j = ''.join(binary_i_list)[::-1]  # Reverse back the modified binary representation\n",
    "        j = int(binary_j, 2)\n",
    "        M[i, j] = 1\n",
    "        M[j, i] = 1\n",
    "    return M"
   ]
  }
 ],
 "metadata": {
  "kernelspec": {
   "display_name": "Python 3",
   "language": "python",
   "name": "python3"
  },
  "language_info": {
   "codemirror_mode": {
    "name": "ipython",
    "version": 3
   },
   "file_extension": ".py",
   "mimetype": "text/x-python",
   "name": "python",
   "nbconvert_exporter": "python",
   "pygments_lexer": "ipython3",
   "version": "3.10.10"
  },
  "orig_nbformat": 4
 },
 "nbformat": 4,
 "nbformat_minor": 2
}
