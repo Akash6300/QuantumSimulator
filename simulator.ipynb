{
 "cells": [
  {
   "cell_type": "code",
   "execution_count": 46,
   "metadata": {},
   "outputs": [],
   "source": [
    "import numpy as np\n",
    "import matplotlib.pyplot as plt\n",
    "import collections"
   ]
  },
  {
   "attachments": {},
   "cell_type": "markdown",
   "metadata": {},
   "source": [
    "## *simulator for single qubit operations*\n",
    "---\n",
    "This block of code is just to represent simulator for single qubit operations and it doesnot perform any multiple qubit operations."
   ]
  },
  {
   "cell_type": "code",
   "execution_count": 47,
   "metadata": {},
   "outputs": [],
   "source": [
    "class QCircuit:\n",
    "    ''' \n",
    "        initializing gates\n",
    "        limiting number of gates for better understanding.\n",
    "    '''\n",
    "    pauli_x=np.array([[0,1],\n",
    "                      [1,0]])\n",
    "    pauli_y=np.array([[0,-1j],\n",
    "                      [1j,0]])\n",
    "    pauli_z=np.array([[1,0],\n",
    "                      [0,-1]])\n",
    "    hadamard=np.array([[1,1],\n",
    "                       [1,-1]])\n",
    "    identity=np.identity(2)\n",
    "    __gates={'x':pauli_x,'y':pauli_y,'z':pauli_z,'h':hadamard,'i':identity}\n",
    "    def __init__(self,n:int) -> None:\n",
    "        '''number of qubits'''\n",
    "        try:\n",
    "            assert(n>0)\n",
    "        except AssertionError:\n",
    "            print('number of qubits must be greater than zero')\n",
    "        else:\n",
    "            self.n=n\n",
    "            self.all_statevectors=[[1,0]]*self.n #initializing all statevectors to state 0\n",
    "            gate_operations=[]\n",
    "            self.gate_operations=gate_operations\n",
    "        \n",
    "    def __perform_gate(self,statevector:np.array,gate:np.array)->np.array:\n",
    "\n",
    "        new_statevector=np.dot(gate,statevector) #applying gate\n",
    "        norm=np.sqrt((new_statevector[0]**2)+ (new_statevector[1]**2)) #finding norm\n",
    "        statevector= new_statevector/norm #normalizing statevector\n",
    "        return statevector\n",
    "    \n",
    "    def x(self,index:int)->None:\n",
    "        self.gate_operations.append(('x',index))\n",
    "    def y(self,index:int)->None:\n",
    "        self.gate_operations.append(('y',index))\n",
    "    def z(self,index:int)->None:\n",
    "        self.gate_operations.append(('z',index))\n",
    "    def h(self,index:int)->None:\n",
    "        self.gate_operations.append(('h',index))\n",
    "\n",
    "    def cnot(self,contol:int,target:int)->None:\n",
    "        self.gate_operations.append(('cx',contol,target))\n",
    "    \n",
    "    def measure(self,iters=1)->None:\n",
    "        '''\n",
    "            args:\n",
    "\n",
    "            iters: number of iterations\n",
    "\n",
    "            output:\n",
    "                returns Count of circuit\n",
    "                \n",
    "        '''\n",
    "\n",
    "\n",
    "        for step in self.gate_operations:\n",
    "            # print(step)\n",
    "            gate_rep,index=step[0],step[1]\n",
    "            statevector=self.__perform_gate(self.all_statevectors[index],self.__gates[gate_rep])\n",
    "            self.all_statevectors[index]=statevector\n",
    "        final_statevector=self.all_statevectors[0]\n",
    "        for i in range(1,len(self.all_statevectors)):\n",
    "            final_statevector=np.kron(final_statevector,self.all_statevectors[i])\n",
    "        #normalizing final statevector\n",
    "\n",
    "        norm=np.linalg.norm(final_statevector)\n",
    "        final_statevector=final_statevector/norm\n",
    "        \n",
    "        # print(f'Statevector= {final_statevector} \\n')\n",
    "\n",
    "        probobalities=np.abs(final_statevector)**2\n",
    "        count=[]\n",
    "        for i in range(iters):\n",
    "            val=np.random.choice(len(final_statevector),p=probobalities)\n",
    "            val=bin(val)[2:].zfill(self.n)\n",
    "            count.append(val)\n",
    "        counts=collections.Counter(count)\n",
    "        counts=counts.most_common()\n",
    "        return dict(counts)\n",
    "\n",
    "\n"
   ]
  },
  {
   "attachments": {},
   "cell_type": "markdown",
   "metadata": {},
   "source": [
    " ### *This code is to generate cnot gate matrix*"
   ]
  },
  {
   "cell_type": "code",
   "execution_count": 48,
   "metadata": {},
   "outputs": [],
   "source": [
    "def get_cnot_matrix(control_qubit_index, target_qubit_index, num_qubits):\n",
    "    M = np.zeros((2 ** num_qubits, 2 ** num_qubits), dtype=np.complex128)\n",
    "    for i in range(2 ** num_qubits):\n",
    "        binary_i = format(i, f'0{num_qubits}b')\n",
    "        binary_i_list = list(binary_i)\n",
    "        if binary_i_list[-(target_qubit_index + 1)] == '1':\n",
    "            binary_i_list[-(control_qubit_index + 1)] = str(1 - int(binary_i_list[-(control_qubit_index + 1)]))\n",
    "        binary_j = ''.join(binary_i_list)\n",
    "        j = int(binary_j, 2)\n",
    "        M[i, j] = 1\n",
    "        M[j, i] = 1\n",
    "    return M"
   ]
  },
  {
   "attachments": {},
   "cell_type": "markdown",
   "metadata": {},
   "source": [
    "## *visualize counts*\n",
    "---\n",
    "visualizing counts of the circuit"
   ]
  },
  {
   "cell_type": "code",
   "execution_count": 49,
   "metadata": {},
   "outputs": [],
   "source": [
    "def visualize_counts(counts:dict,color='red')->None:\n",
    "    '''\n",
    "        color argument is optional\n",
    "    '''\n",
    "    plt.bar(list(counts.keys()),list(counts.values()),align='center',width=0.3,color=color)\n",
    "    plt.xticks(list(counts.keys()))\n",
    "    plt.xlabel('measurements')\n",
    "    plt.ylabel('counts')\n",
    "    plt.title('histogram for counts')\n",
    "    plt.show()"
   ]
  },
  {
   "cell_type": "code",
   "execution_count": 50,
   "metadata": {},
   "outputs": [
    {
     "data": {
      "image/png": "[encoded data removed]",
      "text/plain": [
       "<Figure size 640x480 with 1 Axes>"
      ]
     },
     "metadata": {},
     "output_type": "display_data"
    }
   ],
   "source": [
    "qc=QCircuit(2)\n",
    "qc.h(0)\n",
    "qc.h(1)\n",
    "k=qc.measure(100)\n",
    "visualize_counts(k)"
   ]
  }
 ],
 "metadata": {
  "kernelspec": {
   "display_name": "Python 3",
   "language": "python",
   "name": "python3"
  },
  "language_info": {
   "codemirror_mode": {
    "name": "ipython",
    "version": 3
   },
   "file_extension": ".py",
   "mimetype": "text/x-python",
   "name": "python",
   "nbconvert_exporter": "python",
   "pygments_lexer": "ipython3",
   "version": "3.10.8"
  },
  "orig_nbformat": 4
 },
 "nbformat": 4,
 "nbformat_minor": 2
}
